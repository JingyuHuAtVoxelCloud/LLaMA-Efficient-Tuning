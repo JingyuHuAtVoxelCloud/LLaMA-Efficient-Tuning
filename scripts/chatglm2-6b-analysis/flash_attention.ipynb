{
 "cells": [
  {
   "cell_type": "code",
   "execution_count": 1,
   "metadata": {},
   "outputs": [
    {
     "name": "stdout",
     "output_type": "stream",
     "text": [
      "Flash attention took 0.0031659603118896484 seconds\n",
      "Standard attention took 0.405972957611084 seconds\n"
     ]
    },
    {
     "ename": "",
     "evalue": "",
     "output_type": "error",
     "traceback": [
      "\u001b[1;31mThe Kernel crashed while executing code in the the current cell or a previous cell. Please review the code in the cell(s) to identify a possible cause of the failure. Click <a href='https://aka.ms/vscodeJupyterKernelCrash'>here</a> for more info. View Jupyter <a href='command:jupyter.viewOutput'>log</a> for further details."
     ]
    }
   ],
   "source": [
    "import time\n",
    "import torch\n",
    "import torch.nn.functional as F\n",
    "\n",
    "\n",
    "bz = 32\n",
    "seq_len = 2048\n",
    "dims = 64\n",
    "n_heads = 8\n",
    "q = torch.randn(bz, n_heads, seq_len, dims, dtype=torch.float16).cuda()\n",
    "k = torch.randn(bz, n_heads, seq_len, dims, dtype=torch.float16).cuda()\n",
    "v = torch.randn(bz, n_heads, seq_len, dims, dtype=torch.float16).cuda()\n",
    "\n",
    "dropout_rate = 0.2\n",
    "num_trials = 10\n",
    "\n",
    "with torch.backends.cuda.sdp_kernel(\n",
    "    enable_flash=True, enable_math=False, enable_mem_efficient=False\n",
    "):\n",
    "    start = time.time()\n",
    "    for i in range(num_trials):\n",
    "        out = F.scaled_dot_product_attention(q, k, v, dropout_p=dropout_rate)\n",
    "    end = time.time()\n",
    "    print('Flash attention took {} seconds'.format(end - start))\n",
    "\n",
    "# with torch.backends.cuda.sdp_kernel(\n",
    "#     enable_flash=False, enable_math=True, enable_mem_efficient=False\n",
    "# ):\n",
    "#     start = time.time()\n",
    "#     for i in range(num_trials):\n",
    "#         out = F.scaled_dot_product_attention(q, k, v, dropout_p=dropout_rate)\n",
    "#     end = time.time()\n",
    "#     print('scled dot product attention disabled flash took {} seconds'.format(end - start))\n",
    "\n",
    "start = time.time()\n",
    "for i in range(num_trials):\n",
    "    attn = q @ k.transpose(-2, -1)\n",
    "    attn = attn.softmax(dim=-1)\n",
    "    attn = F.dropout(attn, p=dropout_rate, training=True)\n",
    "    x = (attn @ v).transpose(1, 2)  # .reshape(bz, seq_len, n_heads*dims)\n",
    "end = time.time()\n",
    "print('Standard attention took {} seconds'.format(end - start))"
   ]
  }
 ],
 "metadata": {
  "kernelspec": {
   "display_name": "llama_etuning",
   "language": "python",
   "name": "python3"
  },
  "language_info": {
   "codemirror_mode": {
    "name": "ipython",
    "version": 3
   },
   "file_extension": ".py",
   "mimetype": "text/x-python",
   "name": "python",
   "nbconvert_exporter": "python",
   "pygments_lexer": "ipython3",
   "version": "3.10.12"
  },
  "orig_nbformat": 4
 },
 "nbformat": 4,
 "nbformat_minor": 2
}
