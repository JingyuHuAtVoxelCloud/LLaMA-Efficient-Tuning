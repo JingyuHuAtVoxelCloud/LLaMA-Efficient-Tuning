{
 "cells": [
  {
   "cell_type": "code",
   "execution_count": 64,
   "metadata": {},
   "outputs": [],
   "source": [
    "import torch \n",
    "from transformers import AutoTokenizer, AutoModel"
   ]
  },
  {
   "cell_type": "code",
   "execution_count": 65,
   "metadata": {},
   "outputs": [
    {
     "name": "stdout",
     "output_type": "stream",
     "text": [
      "[64790, 64792, 30910, 58382]\n",
      "['\\x04\\x03', '\\x00', '\\x01\\x02']\n"
     ]
    }
   ],
   "source": [
    "model_path = '/mnt/eye_team/jyhu/LLaMA-Efficient-Tuning/models/chatglm2-6b'\n",
    "\n",
    "tokenizer = AutoTokenizer.from_pretrained(model_path, trust_remote_code=True)\n",
    "# model = AutoModel.from_pretrained(model_path, trust_remote_code=True).half().cuda()\n",
    "# response, history = model.chat(tokenizer, \"你好\", history=[])\n",
    "# print(response)\n",
    "# response, history = model.chat(tokenizer, \"晚上睡不着应该怎么办\", history=history)\n",
    "# print(response)\n",
    "out = tokenizer.encode('\\x04')\n",
    "print(out)\n",
    "dummy_input = torch.tensor([[7, 6, 0, 0, 1], [1, 2, 3, 0, 0], [0, 0, 0, 4, 5]])\n",
    "out = tokenizer.batch_decode(dummy_input, skip_special_tokens=True, clean_up_tokenization_spaces=True)\n",
    "print(out)\n"
   ]
  },
  {
   "cell_type": "code",
   "execution_count": 66,
   "metadata": {},
   "outputs": [],
   "source": [
    "query_context_tokens = tokenizer('王广善先生！', '香港中文大学教授',\n",
    "                        return_token_type_ids=True,\n",
    "                        return_attention_mask=True,\n",
    "                        return_special_tokens_mask=True)\n"
   ]
  },
  {
   "cell_type": "code",
   "execution_count": 67,
   "metadata": {},
   "outputs": [],
   "source": [
    "tokens = query_context_tokens['input_ids']\n",
    "st = tokenizer.decode(tokens)\n",
    "type_ids = query_context_tokens['token_type_ids']\n",
    "mask = query_context_tokens['attention_mask']\n",
    "special_tokens_mask = query_context_tokens['special_tokens_mask']"
   ]
  },
  {
   "cell_type": "code",
   "execution_count": 68,
   "metadata": {},
   "outputs": [
    {
     "name": "stdout",
     "output_type": "stream",
     "text": [
      "st: 王广善先生！ 香港中文大学教授\n",
      "tokens: [64790, 64792, 34436, 54875, 55150, 32117, 31404, 37944, 32977, 52267, 2]\n",
      "type_ids [0, 0, 0, 0, 0, 1, 1, 1]\n",
      "attention_mask [1, 1, 1, 1, 1, 1, 1, 1, 1, 1, 1]\n",
      "special_tokens_mask [0, 0, 0, 0, 0, 0, 0, 0]\n"
     ]
    }
   ],
   "source": [
    "print('st:',st)\n",
    "print('tokens:',tokens)\n",
    "print('type_ids',type_ids)\n",
    "print('attention_mask', mask)\n",
    "print('special_tokens_mask', special_tokens_mask)\n"
   ]
  },
  {
   "cell_type": "code",
   "execution_count": 69,
   "metadata": {},
   "outputs": [
    {
     "name": "stdout",
     "output_type": "stream",
     "text": [
      "tensor([[1, 3],\n",
      "        [5, 3]])\n"
     ]
    }
   ],
   "source": [
    "import torch\n",
    "ten = torch.tensor([[5, 7], [1, 3]])\n",
    "a = torch.gather(ten, 0, torch.tensor([[1, 1], [0,1]]))\n",
    "print(a)"
   ]
  },
  {
   "cell_type": "code",
   "execution_count": 70,
   "metadata": {},
   "outputs": [
    {
     "data": {
      "text/plain": [
       "tensor([ 6, 10])"
      ]
     },
     "execution_count": 70,
     "metadata": {},
     "output_type": "execute_result"
    }
   ],
   "source": [
    "torch.sum(ten, dim=0)"
   ]
  }
 ],
 "metadata": {
  "kernelspec": {
   "display_name": "llama_etuning",
   "language": "python",
   "name": "python3"
  },
  "language_info": {
   "codemirror_mode": {
    "name": "ipython",
    "version": 3
   },
   "file_extension": ".py",
   "mimetype": "text/x-python",
   "name": "python",
   "nbconvert_exporter": "python",
   "pygments_lexer": "ipython3",
   "version": "3.10.12"
  },
  "orig_nbformat": 4
 },
 "nbformat": 4,
 "nbformat_minor": 2
}
