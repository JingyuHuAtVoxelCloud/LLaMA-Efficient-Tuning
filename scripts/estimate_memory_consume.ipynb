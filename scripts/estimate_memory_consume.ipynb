{
 "cells": [
  {
   "cell_type": "code",
   "execution_count": 3,
   "metadata": {},
   "outputs": [],
   "source": [
    "from transformers import AutoModel\n",
    "from deepspeed.runtime.zero.stage3 import estimate_zero3_model_states_mem_needs_all_live"
   ]
  },
  {
   "cell_type": "code",
   "execution_count": 4,
   "metadata": {},
   "outputs": [
    {
     "name": "stderr",
     "output_type": "stream",
     "text": [
      "Loading checkpoint shards: 100%|██████████| 2/2 [00:04<00:00,  2.17s/it]\n"
     ]
    }
   ],
   "source": [
    "model = AutoModel.from_pretrained(\"../Llama-2-7b-chat-hf\") \n"
   ]
  },
  {
   "cell_type": "code",
   "execution_count": 5,
   "metadata": {},
   "outputs": [
    {
     "name": "stdout",
     "output_type": "stream",
     "text": [
      "Estimated memory needed for params, optim states and gradients for a:\n",
      "HW: Setup with 1 node, 1 GPU per node.\n",
      "SW: Model with 6607M total params, 131M largest layer params.\n",
      "  per CPU  |  per GPU |   Options\n",
      "  166.15GB |   0.49GB | offload_param=cpu , offload_optimizer=cpu , zero_init=1\n",
      "  166.15GB |   0.49GB | offload_param=cpu , offload_optimizer=cpu , zero_init=0\n",
      "  147.69GB |  12.80GB | offload_param=none, offload_optimizer=cpu , zero_init=1\n",
      "  147.69GB |  12.80GB | offload_param=none, offload_optimizer=cpu , zero_init=0\n",
      "    0.73GB | 111.25GB | offload_param=none, offload_optimizer=none, zero_init=1\n",
      "   36.92GB | 111.25GB | offload_param=none, offload_optimizer=none, zero_init=0\n"
     ]
    }
   ],
   "source": [
    "estimate_zero3_model_states_mem_needs_all_live(model, num_gpus_per_node=1, num_nodes=1)"
   ]
  }
 ],
 "metadata": {
  "kernelspec": {
   "display_name": "llama_etuning",
   "language": "python",
   "name": "python3"
  },
  "language_info": {
   "codemirror_mode": {
    "name": "ipython",
    "version": 3
   },
   "file_extension": ".py",
   "mimetype": "text/x-python",
   "name": "python",
   "nbconvert_exporter": "python",
   "pygments_lexer": "ipython3",
   "version": "3.10.12"
  },
  "orig_nbformat": 4
 },
 "nbformat": 4,
 "nbformat_minor": 2
}
