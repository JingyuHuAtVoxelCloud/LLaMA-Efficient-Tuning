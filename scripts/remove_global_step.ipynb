{
 "cells": [
  {
   "cell_type": "code",
   "execution_count": 10,
   "metadata": {},
   "outputs": [],
   "source": [
    "import os \n",
    "import shutil"
   ]
  },
  {
   "cell_type": "code",
   "execution_count": 11,
   "metadata": {},
   "outputs": [
    {
     "name": "stdout",
     "output_type": "stream",
     "text": [
      "Deleting /mnt/eye_team/jyhu/LLaMA-Efficient-Tuning/outputs/retina_gpt/pt-chatglm2/checkpoint-100/global_step100\n",
      "Deleting /mnt/eye_team/jyhu/LLaMA-Efficient-Tuning/outputs/retina_gpt/pt-chatglm2/checkpoint-200/global_step200\n",
      "Deleting /mnt/eye_team/jyhu/LLaMA-Efficient-Tuning/outputs/retina_gpt/pt-chatglm2/checkpoint-300/global_step300\n",
      "Deleting /mnt/eye_team/jyhu/LLaMA-Efficient-Tuning/outputs/retina_gpt/pt-chatglm2/checkpoint-400/global_step400\n",
      "Deleting /mnt/eye_team/jyhu/LLaMA-Efficient-Tuning/outputs/retina_gpt/pt-chatglm2/checkpoint-500/global_step500\n",
      "Deleting /mnt/eye_team/jyhu/LLaMA-Efficient-Tuning/outputs/retina_gpt/pt-chatglm2/checkpoint-600/global_step600\n",
      "Deleting /mnt/eye_team/jyhu/LLaMA-Efficient-Tuning/outputs/retina_gpt/pt-chatglm2/checkpoint-700/global_step700\n",
      "Deleting /mnt/eye_team/jyhu/LLaMA-Efficient-Tuning/outputs/retina_gpt/pt-chatglm2/checkpoint-800/global_step800\n",
      "Deleting /mnt/eye_team/jyhu/LLaMA-Efficient-Tuning/outputs/retina_gpt/pt-chatglm2/checkpoint-900/global_step900\n",
      "Deleting /mnt/eye_team/jyhu/LLaMA-Efficient-Tuning/outputs/retina_gpt/pt-chatglm2/checkpoint-1000/global_step1000\n",
      "Deleting /mnt/eye_team/jyhu/LLaMA-Efficient-Tuning/outputs/retina_gpt/pt-chatglm2/checkpoint-1100/global_step1100\n",
      "Deleting /mnt/eye_team/jyhu/LLaMA-Efficient-Tuning/outputs/retina_gpt/pt-chatglm2/checkpoint-1200/global_step1200\n",
      "Deleting /mnt/eye_team/jyhu/LLaMA-Efficient-Tuning/outputs/retina_gpt/pt-chatglm2/checkpoint-1300/global_step1300\n"
     ]
    }
   ],
   "source": [
    "root_path = '/mnt/eye_team/jyhu/LLaMA-Efficient-Tuning/outputs/retina_gpt/pt-chatglm2'\n",
    "\n",
    "for path in os.listdir(root_path):\n",
    "    if path.startswith('checkpoint-'):\n",
    "        target_dir = os.path.join(root_path, path, \"global_step\" + path.split('-')[-1])\n",
    "        \n",
    "        if os.path.exists(target_dir):\n",
    "            print(f\"Deleting {target_dir}\")\n",
    "            shutil.rmtree(target_dir)"
   ]
  }
 ],
 "metadata": {
  "kernelspec": {
   "display_name": "llama_etuning",
   "language": "python",
   "name": "python3"
  },
  "language_info": {
   "codemirror_mode": {
    "name": "ipython",
    "version": 3
   },
   "file_extension": ".py",
   "mimetype": "text/x-python",
   "name": "python",
   "nbconvert_exporter": "python",
   "pygments_lexer": "ipython3",
   "version": "3.10.12"
  },
  "orig_nbformat": 4
 },
 "nbformat": 4,
 "nbformat_minor": 2
}
